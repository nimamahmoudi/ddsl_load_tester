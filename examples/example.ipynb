{
 "cells": [
  {
   "cell_type": "code",
   "execution_count": 1,
   "metadata": {
    "ExecuteTime": {
     "end_time": "2019-05-03T14:22:55.119435Z",
     "start_time": "2019-05-03T14:22:54.446748Z"
    }
   },
   "outputs": [],
   "source": [
    "%load_ext autoreload\n",
    "\n",
    "# Auto reloading causes the kernel to reload the libraries we have\n",
    "%autoreload 2\n",
    "\n",
    "import time\n",
    "import pandas as pd\n",
    "\n",
    "import sys\n",
    "sys.path.append(\"../pacs_load_tester\")\n",
    "\n",
    "import pacs_load_tester as load_tester"
   ]
  },
  {
   "cell_type": "markdown",
   "metadata": {},
   "source": [
    "# Getting Current Status"
   ]
  },
  {
   "cell_type": "code",
   "execution_count": 4,
   "metadata": {
    "ExecuteTime": {
     "end_time": "2019-05-03T14:22:55.173013Z",
     "start_time": "2019-05-03T14:22:55.122777Z"
    }
   },
   "outputs": [
    {
     "data": {
      "text/plain": [
       "{'current_max_response_time': None,\n",
       " 'current_min_response_time': None,\n",
       " 'current_response_time_average': None,\n",
       " 'current_response_time_percentile_50': None,\n",
       " 'current_response_time_percentile_95': None,\n",
       " 'errors': [{'error': \"ConnectionError(ProtocolError('Connection aborted.', RemoteDisconnected('Remote end closed connection without response',)),)\",\n",
       "   'method': 'GET',\n",
       "   'name': '/',\n",
       "   'occurences': 112},\n",
       "  {'error': 'ConnectionError(MaxRetryError(\"HTTPConnectionPool(host=\\'10.12.7.31\\', port=8000): Max retries exceeded with url: / (Caused by NewConnectionError(\\'<urllib3.connection.HTTPConnection object at 0x....>: Failed to establish a new connection: [Errno 111] Connection refused\\',))\",),)',\n",
       "   'method': 'GET',\n",
       "   'name': '/',\n",
       "   'occurences': 980}],\n",
       " 'fail_ratio': 0.748457847840987,\n",
       " 'state': 'stopped',\n",
       " 'stats': [{'avg_content_length': 25.126113776559286,\n",
       "   'avg_response_time': 17380.420324163457,\n",
       "   'current_rps': 2.5,\n",
       "   'max_response_time': 56280.49612045288,\n",
       "   'median_response_time': 21000,\n",
       "   'method': 'GET',\n",
       "   'min_response_time': 305.24539947509766,\n",
       "   'name': '/',\n",
       "   'num_failures': 1092,\n",
       "   'num_requests': 1459},\n",
       "  {'avg_content_length': 25.126113776559286,\n",
       "   'avg_response_time': 17380.420324163457,\n",
       "   'current_rps': 2.5,\n",
       "   'max_response_time': 56280.49612045288,\n",
       "   'median_response_time': 21000,\n",
       "   'method': None,\n",
       "   'min_response_time': 305.24539947509766,\n",
       "   'name': 'Total',\n",
       "   'num_failures': 1092,\n",
       "   'num_requests': 1459}],\n",
       " 'total_average_response_time': 17380.420324163457,\n",
       " 'total_rps': 2.5,\n",
       " 'user_count': 0}"
      ]
     },
     "execution_count": 4,
     "metadata": {},
     "output_type": "execute_result"
    }
   ],
   "source": [
    "load_tester.get_current_stats()"
   ]
  },
  {
   "cell_type": "markdown",
   "metadata": {},
   "source": [
    "# Running a Sequence"
   ]
  },
  {
   "cell_type": "code",
   "execution_count": 5,
   "metadata": {
    "ExecuteTime": {
     "end_time": "2019-05-03T14:24:25.395515Z",
     "start_time": "2019-05-03T14:22:55.176465Z"
    }
   },
   "outputs": [
    {
     "data": {
      "application/vnd.jupyter.widget-view+json": {
       "model_id": "b54d1fa8aced4712ac14e379465775c7",
       "version_major": 2,
       "version_minor": 0
      },
      "text/plain": [
       "HBox(children=(IntProgress(value=0, max=9), HTML(value='')))"
      ]
     },
     "metadata": {},
     "output_type": "display_data"
    },
    {
     "name": "stdout",
     "output_type": "stream",
     "text": [
      "\n"
     ]
    },
    {
     "data": {
      "text/html": [
       "<div>\n",
       "<style scoped>\n",
       "    .dataframe tbody tr th:only-of-type {\n",
       "        vertical-align: middle;\n",
       "    }\n",
       "\n",
       "    .dataframe tbody tr th {\n",
       "        vertical-align: top;\n",
       "    }\n",
       "\n",
       "    .dataframe thead th {\n",
       "        text-align: right;\n",
       "    }\n",
       "</style>\n",
       "<table border=\"1\" class=\"dataframe\">\n",
       "  <thead>\n",
       "    <tr style=\"text-align: right;\">\n",
       "      <th></th>\n",
       "      <th>time</th>\n",
       "      <th>current_response_time_percentile_50</th>\n",
       "      <th>current_response_time_percentile_95</th>\n",
       "      <th>current_response_time_average</th>\n",
       "      <th>current_max_response_time</th>\n",
       "      <th>current_min_response_time</th>\n",
       "      <th>fail_ratio</th>\n",
       "      <th>total_rps</th>\n",
       "      <th>user_count</th>\n",
       "      <th>avg_response_time</th>\n",
       "      <th>current_rps</th>\n",
       "      <th>max_response_time</th>\n",
       "      <th>median_response_time</th>\n",
       "      <th>min_response_time</th>\n",
       "      <th>num_failures</th>\n",
       "      <th>num_requests</th>\n",
       "      <th>elapsed</th>\n",
       "      <th>elapsed_min</th>\n",
       "    </tr>\n",
       "  </thead>\n",
       "  <tbody>\n",
       "    <tr>\n",
       "      <th>0</th>\n",
       "      <td>1.557526e+09</td>\n",
       "      <td>3900</td>\n",
       "      <td>4500</td>\n",
       "      <td>3933</td>\n",
       "      <td>4500</td>\n",
       "      <td>3400</td>\n",
       "      <td>0.0</td>\n",
       "      <td>0.000</td>\n",
       "      <td>50</td>\n",
       "      <td>3946.632306</td>\n",
       "      <td>0.000</td>\n",
       "      <td>4500.268698</td>\n",
       "      <td>3900</td>\n",
       "      <td>3427.895784</td>\n",
       "      <td>0</td>\n",
       "      <td>3</td>\n",
       "      <td>0.000000</td>\n",
       "      <td>0.000000</td>\n",
       "    </tr>\n",
       "    <tr>\n",
       "      <th>1</th>\n",
       "      <td>1.557526e+09</td>\n",
       "      <td>6300</td>\n",
       "      <td>7200</td>\n",
       "      <td>5400</td>\n",
       "      <td>7200</td>\n",
       "      <td>3400</td>\n",
       "      <td>0.0</td>\n",
       "      <td>0.600</td>\n",
       "      <td>50</td>\n",
       "      <td>5413.271189</td>\n",
       "      <td>0.600</td>\n",
       "      <td>7197.435379</td>\n",
       "      <td>4500</td>\n",
       "      <td>3427.895784</td>\n",
       "      <td>0</td>\n",
       "      <td>6</td>\n",
       "      <td>2.000784</td>\n",
       "      <td>0.033346</td>\n",
       "    </tr>\n",
       "    <tr>\n",
       "      <th>2</th>\n",
       "      <td>1.557526e+09</td>\n",
       "      <td>6300</td>\n",
       "      <td>7200</td>\n",
       "      <td>5400</td>\n",
       "      <td>7200</td>\n",
       "      <td>3400</td>\n",
       "      <td>0.0</td>\n",
       "      <td>0.600</td>\n",
       "      <td>50</td>\n",
       "      <td>5413.271189</td>\n",
       "      <td>0.600</td>\n",
       "      <td>7197.435379</td>\n",
       "      <td>4500</td>\n",
       "      <td>3427.895784</td>\n",
       "      <td>0</td>\n",
       "      <td>6</td>\n",
       "      <td>4.000584</td>\n",
       "      <td>0.066676</td>\n",
       "    </tr>\n",
       "    <tr>\n",
       "      <th>0</th>\n",
       "      <td>1.557526e+09</td>\n",
       "      <td>7700</td>\n",
       "      <td>10000</td>\n",
       "      <td>5776</td>\n",
       "      <td>10000</td>\n",
       "      <td>3400</td>\n",
       "      <td>0.0</td>\n",
       "      <td>0.875</td>\n",
       "      <td>100</td>\n",
       "      <td>7381.312609</td>\n",
       "      <td>0.875</td>\n",
       "      <td>10489.091158</td>\n",
       "      <td>7700</td>\n",
       "      <td>3427.895784</td>\n",
       "      <td>0</td>\n",
       "      <td>13</td>\n",
       "      <td>6.002202</td>\n",
       "      <td>0.100037</td>\n",
       "    </tr>\n",
       "    <tr>\n",
       "      <th>1</th>\n",
       "      <td>1.557526e+09</td>\n",
       "      <td>10000</td>\n",
       "      <td>13000</td>\n",
       "      <td>5372</td>\n",
       "      <td>13000</td>\n",
       "      <td>3900</td>\n",
       "      <td>0.0</td>\n",
       "      <td>1.000</td>\n",
       "      <td>100</td>\n",
       "      <td>8912.720831</td>\n",
       "      <td>1.000</td>\n",
       "      <td>12566.640139</td>\n",
       "      <td>8600</td>\n",
       "      <td>3427.895784</td>\n",
       "      <td>0</td>\n",
       "      <td>19</td>\n",
       "      <td>8.003223</td>\n",
       "      <td>0.133387</td>\n",
       "    </tr>\n",
       "  </tbody>\n",
       "</table>\n",
       "</div>"
      ],
      "text/plain": [
       "           time  current_response_time_percentile_50  \\\n",
       "0  1.557526e+09                                 3900   \n",
       "1  1.557526e+09                                 6300   \n",
       "2  1.557526e+09                                 6300   \n",
       "0  1.557526e+09                                 7700   \n",
       "1  1.557526e+09                                10000   \n",
       "\n",
       "   current_response_time_percentile_95  current_response_time_average  \\\n",
       "0                                 4500                           3933   \n",
       "1                                 7200                           5400   \n",
       "2                                 7200                           5400   \n",
       "0                                10000                           5776   \n",
       "1                                13000                           5372   \n",
       "\n",
       "   current_max_response_time  current_min_response_time  fail_ratio  \\\n",
       "0                       4500                       3400         0.0   \n",
       "1                       7200                       3400         0.0   \n",
       "2                       7200                       3400         0.0   \n",
       "0                      10000                       3400         0.0   \n",
       "1                      13000                       3900         0.0   \n",
       "\n",
       "   total_rps  user_count  avg_response_time  current_rps  max_response_time  \\\n",
       "0      0.000          50        3946.632306        0.000        4500.268698   \n",
       "1      0.600          50        5413.271189        0.600        7197.435379   \n",
       "2      0.600          50        5413.271189        0.600        7197.435379   \n",
       "0      0.875         100        7381.312609        0.875       10489.091158   \n",
       "1      1.000         100        8912.720831        1.000       12566.640139   \n",
       "\n",
       "   median_response_time  min_response_time  num_failures  num_requests  \\\n",
       "0                  3900        3427.895784             0             3   \n",
       "1                  4500        3427.895784             0             6   \n",
       "2                  4500        3427.895784             0             6   \n",
       "0                  7700        3427.895784             0            13   \n",
       "1                  8600        3427.895784             0            19   \n",
       "\n",
       "    elapsed  elapsed_min  \n",
       "0  0.000000     0.000000  \n",
       "1  2.000784     0.033346  \n",
       "2  4.000584     0.066676  \n",
       "0  6.002202     0.100037  \n",
       "1  8.003223     0.133387  "
      ]
     },
     "execution_count": 5,
     "metadata": {},
     "output_type": "execute_result"
    }
   ],
   "source": [
    "from tqdm.auto import tqdm\n",
    "tqdm.pandas()\n",
    "\n",
    "loop_timer = load_tester.TimerClass()\n",
    "total_timer = load_tester.TimerClass()\n",
    "\n",
    "user_sequence = [50,100,500,1000,1000,1000,500,100,50]\n",
    "lt = load_tester.pacsLoadTester(hatch_rate=1000, temp_stat_max_len=5, base='http://localhost:8089/')\n",
    "lt.change_count(user_sequence[0])\n",
    "lt.start_capturing()\n",
    "\n",
    "loop_time_in_secs = load_tester.get_loop_time_in_secs('10s')\n",
    "\n",
    "loop_timer.tic()\n",
    "total_timer.tic()\n",
    "\n",
    "results = None\n",
    "for i in tqdm(range(len(user_sequence))):\n",
    "    user_count = user_sequence[i]\n",
    "    lt.change_count(user_count)\n",
    "    \n",
    "    time.sleep(loop_time_in_secs - loop_timer.toc())\n",
    "    \n",
    "    loop_timer.tic()\n",
    "    \n",
    "    result = lt.get_all_stats()\n",
    "    df_result = pd.DataFrame(data=result)\n",
    "    \n",
    "    if results is None:\n",
    "        results = df_result\n",
    "    else:\n",
    "        results = results.append(df_result)\n",
    "    \n",
    "lt.stop_test()\n",
    "\n",
    "results, filename = lt.prepare_results_from_df(results)\n",
    "\n",
    "results.head()"
   ]
  },
  {
   "cell_type": "markdown",
   "metadata": {},
   "source": [
    "# Showing Stats For Each Loop"
   ]
  },
  {
   "cell_type": "code",
   "execution_count": 6,
   "metadata": {
    "ExecuteTime": {
     "end_time": "2019-05-03T14:24:25.445233Z",
     "start_time": "2019-05-03T14:24:25.401241Z"
    }
   },
   "outputs": [
    {
     "data": {
      "text/plain": [
       "{'time': [1557525595.4061227,\n",
       "  1557525597.4071448,\n",
       "  1557525599.406913,\n",
       "  1557525601.4073427,\n",
       "  1557525603.4075553],\n",
       " 'current_response_time_percentile_50': [21000, 21000, 21000, 21000, 21000],\n",
       " 'current_response_time_percentile_95': [21000, 23000, 23000, 23000, 21000],\n",
       " 'current_response_time_average': [1386, 12200, 12200, 3388, 2111],\n",
       " 'current_max_response_time': [23000, 23000, 23000, 23000, 21000],\n",
       " 'current_min_response_time': [17000, 17000, 17000, 17000, 17000],\n",
       " 'fail_ratio': [0.9035933391761612,\n",
       "  0.9038461538461539,\n",
       "  0.9038461538461539,\n",
       "  0.9049265341400173,\n",
       "  0.9050086355785838],\n",
       " 'total_rps': [5.7, 4.4, 4.4, 4.4, 0.6],\n",
       " 'user_count': [50, 50, 50, 50, 50],\n",
       " 'avg_response_time': [21932.348761821817,\n",
       "  21929.921705822846,\n",
       "  21929.921705822846,\n",
       "  21919.53922348385,\n",
       "  21918.748792177244],\n",
       " 'current_rps': [5.7, 4.4, 4.4, 4.4, 0.6],\n",
       " 'max_response_time': [56428.02929878235,\n",
       "  56428.02929878235,\n",
       "  56428.02929878235,\n",
       "  56428.02929878235,\n",
       "  56428.02929878235],\n",
       " 'median_response_time': [21000, 21000, 21000, 21000, 21000],\n",
       " 'min_response_time': [3427.8957843780518,\n",
       "  3427.8957843780518,\n",
       "  3427.8957843780518,\n",
       "  3427.8957843780518,\n",
       "  3427.8957843780518],\n",
       " 'num_failures': [1031, 1034, 1034, 1047, 1048],\n",
       " 'num_requests': [1141, 1144, 1144, 1157, 1158]}"
      ]
     },
     "execution_count": 6,
     "metadata": {},
     "output_type": "execute_result"
    }
   ],
   "source": [
    "result"
   ]
  },
  {
   "cell_type": "markdown",
   "metadata": {},
   "source": [
    "# Plotting The Sequence Results"
   ]
  },
  {
   "cell_type": "code",
   "execution_count": 7,
   "metadata": {
    "ExecuteTime": {
     "end_time": "2019-05-03T14:24:30.686435Z",
     "start_time": "2019-05-03T14:24:25.448511Z"
    }
   },
   "outputs": [
    {
     "data": {
      "image/png": "[encoded data removed]",
      "text/plain": [
       "<Figure size 576x1296 with 4 Axes>"
      ]
     },
     "metadata": {
      "needs_background": "light"
     },
     "output_type": "display_data"
    }
   ],
   "source": [
    "res = results\n",
    "\n",
    "import matplotlib.pyplot as plt\n",
    "\n",
    "%matplotlib inline\n",
    "\n",
    "plt.figure(figsize=(8,18))\n",
    "plt.subplot(411)\n",
    "plt.plot(res['elapsed_min'], res['current_min_response_time'], label='current_min_response_time')\n",
    "plt.plot(res['elapsed_min'], res['current_response_time_percentile_50'], label='median_response_time')\n",
    "plt.plot(res['elapsed_min'], res['current_response_time_average'], label='avg_response_time')\n",
    "plt.plot(res['elapsed_min'], res['current_response_time_percentile_95'], label='95th percentile')\n",
    "plt.plot(res['elapsed_min'], res['current_max_response_time'], label='current_max_response_time')\n",
    "\n",
    "plt.xlabel('Time (minutes)')\n",
    "plt.ylabel('Average Response Time (ms)')\n",
    "plt.legend()\n",
    "\n",
    "plt.subplot(412)\n",
    "plt.plot(res['elapsed_min'], res['user_count'])\n",
    "plt.xlabel('Time (minutes)')\n",
    "plt.ylabel('Num of Users')\n",
    "\n",
    "plt.subplot(413)\n",
    "plt.plot(res['elapsed_min'], res['total_rps'])\n",
    "plt.xlabel('Time (minutes)')\n",
    "plt.ylabel('Throughput (req/s)')\n",
    "\n",
    "plt.subplot(414)\n",
    "plt.plot(res['elapsed_min'], res['fail_ratio'])\n",
    "plt.xlabel('Time (minutes)')\n",
    "plt.ylabel('Fail Ratio')\n",
    "\n",
    "filename = filename.replace('.csv', '')\n",
    "plt.savefig(filename + '.png', dpi=300)\n",
    "plt.savefig(filename + '.pdf')\n",
    "plt.show()"
   ]
  },
  {
   "cell_type": "markdown",
   "metadata": {},
   "source": [
    "# Testing with Custom Sensing Function\n",
    "\n",
    "In case you need another sensing functionality (for example you also want to measure the replica count or network latency) along with other information, you can override the `custom_sensing()` function in the object."
   ]
  },
  {
   "cell_type": "code",
   "execution_count": 6,
   "metadata": {
    "ExecuteTime": {
     "end_time": "2019-05-03T14:24:30.722765Z",
     "start_time": "2019-05-03T14:24:30.691038Z"
    }
   },
   "outputs": [
    {
     "data": {
      "text/plain": [
       "{'random': 0.570523256206516}"
      ]
     },
     "execution_count": 6,
     "metadata": {},
     "output_type": "execute_result"
    }
   ],
   "source": [
    "def custom_sensing():\n",
    "    import random\n",
    "    return {'random':random.random()}\n",
    "\n",
    "lt.custom_sensing = custom_sensing\n",
    "# Testing the function\n",
    "lt.custom_sensing()"
   ]
  },
  {
   "cell_type": "code",
   "execution_count": 7,
   "metadata": {
    "ExecuteTime": {
     "end_time": "2019-05-03T14:26:01.015687Z",
     "start_time": "2019-05-03T14:24:30.726278Z"
    }
   },
   "outputs": [
    {
     "data": {
      "application/vnd.jupyter.widget-view+json": {
       "model_id": "d9890ec6945147e99dc4d58b70bb642f",
       "version_major": 2,
       "version_minor": 0
      },
      "text/plain": [
       "HBox(children=(IntProgress(value=0, max=9), HTML(value='')))"
      ]
     },
     "metadata": {},
     "output_type": "display_data"
    },
    {
     "name": "stdout",
     "output_type": "stream",
     "text": [
      "\n"
     ]
    },
    {
     "data": {
      "text/html": [
       "<div>\n",
       "<style scoped>\n",
       "    .dataframe tbody tr th:only-of-type {\n",
       "        vertical-align: middle;\n",
       "    }\n",
       "\n",
       "    .dataframe tbody tr th {\n",
       "        vertical-align: top;\n",
       "    }\n",
       "\n",
       "    .dataframe thead th {\n",
       "        text-align: right;\n",
       "    }\n",
       "</style>\n",
       "<table border=\"1\" class=\"dataframe\">\n",
       "  <thead>\n",
       "    <tr style=\"text-align: right;\">\n",
       "      <th></th>\n",
       "      <th>time</th>\n",
       "      <th>current_response_time_percentile_50</th>\n",
       "      <th>current_response_time_percentile_95</th>\n",
       "      <th>fail_ratio</th>\n",
       "      <th>total_rps</th>\n",
       "      <th>user_count</th>\n",
       "      <th>avg_response_time</th>\n",
       "      <th>current_rps</th>\n",
       "      <th>max_response_time</th>\n",
       "      <th>median_response_time</th>\n",
       "      <th>min_response_time</th>\n",
       "      <th>num_failures</th>\n",
       "      <th>num_requests</th>\n",
       "      <th>custom_random</th>\n",
       "      <th>elapsed</th>\n",
       "      <th>elapsed_min</th>\n",
       "    </tr>\n",
       "  </thead>\n",
       "  <tbody>\n",
       "    <tr>\n",
       "      <th>0</th>\n",
       "      <td>1.556893e+09</td>\n",
       "      <td>120.000000</td>\n",
       "      <td>230.0</td>\n",
       "      <td>0.0</td>\n",
       "      <td>0.000000</td>\n",
       "      <td>50</td>\n",
       "      <td>122.728400</td>\n",
       "      <td>0.000000</td>\n",
       "      <td>246.101856</td>\n",
       "      <td>120.000000</td>\n",
       "      <td>50.598621</td>\n",
       "      <td>0</td>\n",
       "      <td>50</td>\n",
       "      <td>0.101528</td>\n",
       "      <td>0.000000</td>\n",
       "      <td>0.000000</td>\n",
       "    </tr>\n",
       "    <tr>\n",
       "      <th>1</th>\n",
       "      <td>1.556893e+09</td>\n",
       "      <td>120.000000</td>\n",
       "      <td>230.0</td>\n",
       "      <td>0.0</td>\n",
       "      <td>0.000000</td>\n",
       "      <td>50</td>\n",
       "      <td>122.728400</td>\n",
       "      <td>0.000000</td>\n",
       "      <td>246.101856</td>\n",
       "      <td>120.000000</td>\n",
       "      <td>50.598621</td>\n",
       "      <td>0</td>\n",
       "      <td>50</td>\n",
       "      <td>0.420778</td>\n",
       "      <td>2.000142</td>\n",
       "      <td>0.033336</td>\n",
       "    </tr>\n",
       "    <tr>\n",
       "      <th>2</th>\n",
       "      <td>1.556893e+09</td>\n",
       "      <td>120.000000</td>\n",
       "      <td>230.0</td>\n",
       "      <td>0.0</td>\n",
       "      <td>0.000000</td>\n",
       "      <td>50</td>\n",
       "      <td>122.728400</td>\n",
       "      <td>0.000000</td>\n",
       "      <td>246.101856</td>\n",
       "      <td>120.000000</td>\n",
       "      <td>50.598621</td>\n",
       "      <td>0</td>\n",
       "      <td>50</td>\n",
       "      <td>0.514926</td>\n",
       "      <td>3.997733</td>\n",
       "      <td>0.066629</td>\n",
       "    </tr>\n",
       "    <tr>\n",
       "      <th>3</th>\n",
       "      <td>1.556893e+09</td>\n",
       "      <td>82.220316</td>\n",
       "      <td>200.0</td>\n",
       "      <td>0.0</td>\n",
       "      <td>8.333333</td>\n",
       "      <td>50</td>\n",
       "      <td>89.136543</td>\n",
       "      <td>8.333333</td>\n",
       "      <td>246.101856</td>\n",
       "      <td>72.951317</td>\n",
       "      <td>23.376465</td>\n",
       "      <td>0</td>\n",
       "      <td>83</td>\n",
       "      <td>0.697783</td>\n",
       "      <td>6.005076</td>\n",
       "      <td>0.100085</td>\n",
       "    </tr>\n",
       "    <tr>\n",
       "      <th>0</th>\n",
       "      <td>1.556893e+09</td>\n",
       "      <td>65.932751</td>\n",
       "      <td>200.0</td>\n",
       "      <td>0.0</td>\n",
       "      <td>9.250000</td>\n",
       "      <td>50</td>\n",
       "      <td>79.517384</td>\n",
       "      <td>9.250000</td>\n",
       "      <td>246.101856</td>\n",
       "      <td>65.932751</td>\n",
       "      <td>23.376465</td>\n",
       "      <td>0</td>\n",
       "      <td>100</td>\n",
       "      <td>0.628278</td>\n",
       "      <td>8.016455</td>\n",
       "      <td>0.133608</td>\n",
       "    </tr>\n",
       "  </tbody>\n",
       "</table>\n",
       "</div>"
      ],
      "text/plain": [
       "           time  current_response_time_percentile_50  \\\n",
       "0  1.556893e+09                           120.000000   \n",
       "1  1.556893e+09                           120.000000   \n",
       "2  1.556893e+09                           120.000000   \n",
       "3  1.556893e+09                            82.220316   \n",
       "0  1.556893e+09                            65.932751   \n",
       "\n",
       "   current_response_time_percentile_95  fail_ratio  total_rps  user_count  \\\n",
       "0                                230.0         0.0   0.000000          50   \n",
       "1                                230.0         0.0   0.000000          50   \n",
       "2                                230.0         0.0   0.000000          50   \n",
       "3                                200.0         0.0   8.333333          50   \n",
       "0                                200.0         0.0   9.250000          50   \n",
       "\n",
       "   avg_response_time  current_rps  max_response_time  median_response_time  \\\n",
       "0         122.728400     0.000000         246.101856            120.000000   \n",
       "1         122.728400     0.000000         246.101856            120.000000   \n",
       "2         122.728400     0.000000         246.101856            120.000000   \n",
       "3          89.136543     8.333333         246.101856             72.951317   \n",
       "0          79.517384     9.250000         246.101856             65.932751   \n",
       "\n",
       "   min_response_time  num_failures  num_requests  custom_random   elapsed  \\\n",
       "0          50.598621             0            50       0.101528  0.000000   \n",
       "1          50.598621             0            50       0.420778  2.000142   \n",
       "2          50.598621             0            50       0.514926  3.997733   \n",
       "3          23.376465             0            83       0.697783  6.005076   \n",
       "0          23.376465             0           100       0.628278  8.016455   \n",
       "\n",
       "   elapsed_min  \n",
       "0     0.000000  \n",
       "1     0.033336  \n",
       "2     0.066629  \n",
       "3     0.100085  \n",
       "0     0.133608  "
      ]
     },
     "execution_count": 7,
     "metadata": {},
     "output_type": "execute_result"
    }
   ],
   "source": [
    "from tqdm.auto import tqdm\n",
    "tqdm.pandas()\n",
    "\n",
    "loop_timer = load_tester.TimerClass()\n",
    "total_timer = load_tester.TimerClass()\n",
    "\n",
    "user_sequence = [50,100,500,1000,1000,1000,500,100,50]\n",
    "lt = load_tester.pacsLoadTester(hatch_rate=1000, temp_stat_max_len=5, base='http://localhost:8089/')\n",
    "lt.custom_sensing = custom_sensing\n",
    "lt.change_count(user_sequence[0])\n",
    "lt.start_capturing()\n",
    "\n",
    "loop_time_in_secs = load_tester.get_loop_time_in_secs('10s')\n",
    "\n",
    "loop_timer.tic()\n",
    "total_timer.tic()\n",
    "\n",
    "results = None\n",
    "for i in tqdm(range(len(user_sequence))):\n",
    "    user_count = user_sequence[i]\n",
    "    lt.change_count(user_count)\n",
    "    \n",
    "    time.sleep(loop_time_in_secs - loop_timer.toc())\n",
    "    \n",
    "    loop_timer.tic()\n",
    "    \n",
    "    result = lt.get_all_stats()\n",
    "    df_result = pd.DataFrame(data=result)\n",
    "        \n",
    "    if results is None:\n",
    "        results = df_result\n",
    "    else:\n",
    "        results = results.append(df_result)\n",
    "    \n",
    "lt.stop_test()\n",
    "\n",
    "results, filename = lt.prepare_results_from_df(results)\n",
    "\n",
    "results.head()"
   ]
  },
  {
   "cell_type": "code",
   "execution_count": 8,
   "metadata": {
    "ExecuteTime": {
     "end_time": "2019-05-03T14:26:01.429565Z",
     "start_time": "2019-05-03T14:26:01.021651Z"
    }
   },
   "outputs": [
    {
     "data": {
      "text/plain": [
       "Text(0, 0.5, 'Custom Value')"
      ]
     },
     "execution_count": 8,
     "metadata": {},
     "output_type": "execute_result"
    },
    {
     "data": {
      "image/png": "[encoded data removed]",
      "text/plain": [
       "<Figure size 432x288 with 1 Axes>"
      ]
     },
     "metadata": {
      "needs_background": "light"
     },
     "output_type": "display_data"
    }
   ],
   "source": [
    "res = results\n",
    "\n",
    "plt.plot(res['elapsed_min'], res['custom_random'])\n",
    "plt.xlabel('Time (minutes)')\n",
    "plt.ylabel('Custom Value')"
   ]
  }
 ],
 "metadata": {
  "kernelspec": {
   "display_name": "Python 3",
   "language": "python",
   "name": "python3"
  },
  "language_info": {
   "codemirror_mode": {
    "name": "ipython",
    "version": 3
   },
   "file_extension": ".py",
   "mimetype": "text/x-python",
   "name": "python",
   "nbconvert_exporter": "python",
   "pygments_lexer": "ipython3",
   "version": "3.6.8"
  },
  "toc": {
   "base_numbering": 1,
   "nav_menu": {},
   "number_sections": true,
   "sideBar": true,
   "skip_h1_title": false,
   "title_cell": "Table of Contents",
   "title_sidebar": "Contents",
   "toc_cell": false,
   "toc_position": {},
   "toc_section_display": true,
   "toc_window_display": false
  },
  "varInspector": {
   "cols": {
    "lenName": 16,
    "lenType": 16,
    "lenVar": 40
   },
   "kernels_config": {
    "python": {
     "delete_cmd_postfix": "",
     "delete_cmd_prefix": "del ",
     "library": "var_list.py",
     "varRefreshCmd": "print(var_dic_list())"
    },
    "r": {
     "delete_cmd_postfix": ") ",
     "delete_cmd_prefix": "rm(",
     "library": "var_list.r",
     "varRefreshCmd": "cat(var_dic_list()) "
    }
   },
   "types_to_exclude": [
    "module",
    "function",
    "builtin_function_or_method",
    "instance",
    "_Feature"
   ],
   "window_display": false
  }
 },
 "nbformat": 4,
 "nbformat_minor": 2
}
