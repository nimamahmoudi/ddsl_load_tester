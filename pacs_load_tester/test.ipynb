{
 "cells": [
  {
   "cell_type": "code",
   "execution_count": 2,
   "metadata": {
    "ExecuteTime": {
     "end_time": "2019-05-02T00:10:46.889564Z",
     "start_time": "2019-05-02T00:10:46.732411Z"
    }
   },
   "outputs": [],
   "source": [
    "%load_ext autoreload\n",
    "\n",
    "# Auto reloading causes the kernel to reload the libraries we have\n",
    "%autoreload 2\n",
    "\n",
    "import requests\n",
    "\n",
    "import pacs_load_tester as load_tester"
   ]
  },
  {
   "cell_type": "markdown",
   "metadata": {},
   "source": [
    "# Testing Functionality"
   ]
  },
  {
   "cell_type": "code",
   "execution_count": 22,
   "metadata": {
    "ExecuteTime": {
     "end_time": "2019-05-01T22:37:36.565505Z",
     "start_time": "2019-05-01T22:37:36.525330Z"
    }
   },
   "outputs": [
    {
     "data": {
      "text/plain": [
       "{'current_response_time_percentile_50': None,\n",
       " 'current_response_time_percentile_95': None,\n",
       " 'errors': [],\n",
       " 'fail_ratio': 0.0,\n",
       " 'state': 'ready',\n",
       " 'stats': [{'avg_content_length': 0,\n",
       "   'avg_response_time': 0,\n",
       "   'current_rps': 0.0,\n",
       "   'max_response_time': 0,\n",
       "   'median_response_time': 0,\n",
       "   'method': None,\n",
       "   'min_response_time': 0,\n",
       "   'name': 'Total',\n",
       "   'num_failures': 0,\n",
       "   'num_requests': 0}],\n",
       " 'total_rps': 0.0,\n",
       " 'user_count': 0}"
      ]
     },
     "execution_count": 22,
     "metadata": {},
     "output_type": "execute_result"
    }
   ],
   "source": [
    "load_tester.get_current_stats()"
   ]
  },
  {
   "cell_type": "code",
   "execution_count": 5,
   "metadata": {
    "ExecuteTime": {
     "end_time": "2019-05-01T20:41:09.529155Z",
     "start_time": "2019-05-01T20:41:09.488141Z"
    }
   },
   "outputs": [
    {
     "data": {
      "text/plain": [
       "True"
      ]
     },
     "execution_count": 5,
     "metadata": {},
     "output_type": "execute_result"
    }
   ],
   "source": [
    "load_tester.set_target_user_count(50)"
   ]
  },
  {
   "cell_type": "code",
   "execution_count": 6,
   "metadata": {
    "ExecuteTime": {
     "end_time": "2019-05-01T20:41:09.826266Z",
     "start_time": "2019-05-01T20:41:09.797201Z"
    }
   },
   "outputs": [
    {
     "data": {
      "text/plain": [
       "True"
      ]
     },
     "execution_count": 6,
     "metadata": {},
     "output_type": "execute_result"
    }
   ],
   "source": [
    "load_tester.reset_stats()"
   ]
  },
  {
   "cell_type": "code",
   "execution_count": 7,
   "metadata": {
    "ExecuteTime": {
     "end_time": "2019-05-01T20:41:10.265462Z",
     "start_time": "2019-05-01T20:41:10.219323Z"
    }
   },
   "outputs": [
    {
     "data": {
      "text/plain": [
       "True"
      ]
     },
     "execution_count": 7,
     "metadata": {},
     "output_type": "execute_result"
    }
   ],
   "source": [
    "load_tester.stop_test()"
   ]
  },
  {
   "cell_type": "code",
   "execution_count": 43,
   "metadata": {
    "ExecuteTime": {
     "end_time": "2019-05-01T23:08:50.728251Z",
     "start_time": "2019-05-01T23:08:50.649505Z"
    }
   },
   "outputs": [
    {
     "data": {
      "text/plain": [
       "{'current_response_time_percentile_50': None,\n",
       " 'current_response_time_percentile_95': None,\n",
       " 'errors': [{'error': \"HTTPError('502 Server Error: Bad Gateway for url: http://wg2.nmahmoudi.ir:31112/function/pyfibo/',)\",\n",
       "   'method': 'GET',\n",
       "   'name': '/function/pyfibo/',\n",
       "   'occurences': 11676}],\n",
       " 'fail_ratio': 0.0,\n",
       " 'state': 'stopped',\n",
       " 'stats': [{'avg_content_length': 0,\n",
       "   'avg_response_time': 0,\n",
       "   'current_rps': 0.0,\n",
       "   'max_response_time': 0,\n",
       "   'median_response_time': 0,\n",
       "   'method': 'GET',\n",
       "   'min_response_time': 0,\n",
       "   'name': '/function/pyfibo/',\n",
       "   'num_failures': 0,\n",
       "   'num_requests': 0},\n",
       "  {'avg_content_length': 0,\n",
       "   'avg_response_time': 0,\n",
       "   'current_rps': 0.0,\n",
       "   'max_response_time': 0,\n",
       "   'median_response_time': 0,\n",
       "   'method': None,\n",
       "   'min_response_time': 0,\n",
       "   'name': 'Total',\n",
       "   'num_failures': 0,\n",
       "   'num_requests': 0}],\n",
       " 'total_rps': 0.0,\n",
       " 'user_count': 0}"
      ]
     },
     "execution_count": 43,
     "metadata": {},
     "output_type": "execute_result"
    }
   ],
   "source": [
    "load_tester.get_current_stats()"
   ]
  },
  {
   "cell_type": "markdown",
   "metadata": {},
   "source": [
    "# Testing Object"
   ]
  },
  {
   "cell_type": "code",
   "execution_count": 74,
   "metadata": {
    "ExecuteTime": {
     "end_time": "2019-05-01T23:29:06.529797Z",
     "start_time": "2019-05-01T23:29:06.456806Z"
    }
   },
   "outputs": [
    {
     "data": {
      "text/plain": [
       "True"
      ]
     },
     "execution_count": 74,
     "metadata": {},
     "output_type": "execute_result"
    }
   ],
   "source": [
    "lt = load_tester.pacsLoadTester(hatch_rate=100, temp_stat_max_len=5, base='http://localhost:8089/')\n",
    "lt.change_count(50)"
   ]
  },
  {
   "cell_type": "code",
   "execution_count": 75,
   "metadata": {
    "ExecuteTime": {
     "end_time": "2019-05-01T23:29:07.315445Z",
     "start_time": "2019-05-01T23:29:07.278041Z"
    }
   },
   "outputs": [],
   "source": [
    "lt.start_capturing()"
   ]
  },
  {
   "cell_type": "code",
   "execution_count": 77,
   "metadata": {
    "ExecuteTime": {
     "end_time": "2019-05-01T23:29:20.181561Z",
     "start_time": "2019-05-01T23:29:20.148411Z"
    }
   },
   "outputs": [
    {
     "data": {
      "text/plain": [
       "{'time': [1556753351.3287334,\n",
       "  1556753353.332906,\n",
       "  1556753355.3335166,\n",
       "  1556753357.3305836,\n",
       "  1556753359.3368878],\n",
       " 'current_response_time_percentile_50': [None, None, None, None, None],\n",
       " 'current_response_time_percentile_95': [None, None, None, None, None],\n",
       " 'fail_ratio': [0.0, 0.0, 0.0, 0.0, 0.0],\n",
       " 'total_rps': [0.0, 0.0, 0.0, 0.0, 0.0],\n",
       " 'user_count': [50, 50, 50, 50, 50],\n",
       " 'avg_response_time': [0,\n",
       "  53.74026298522949,\n",
       "  40.00663757324219,\n",
       "  40.00663757324219,\n",
       "  0],\n",
       " 'current_rps': [0.0, 0.0, 0.0, 0.0, 0.0],\n",
       " 'max_response_time': [0,\n",
       "  57.170867919921875,\n",
       "  78.32837104797363,\n",
       "  78.32837104797363,\n",
       "  0],\n",
       " 'median_response_time': [0,\n",
       "  50.30965805053711,\n",
       "  25.400876998901367,\n",
       "  25.400876998901367,\n",
       "  0],\n",
       " 'min_response_time': [0,\n",
       "  50.30965805053711,\n",
       "  23.400068283081055,\n",
       "  23.400068283081055,\n",
       "  0],\n",
       " 'num_failures': [0, 0, 0, 0, 0],\n",
       " 'num_requests': [0, 2, 10, 10, 0]}"
      ]
     },
     "execution_count": 77,
     "metadata": {},
     "output_type": "execute_result"
    }
   ],
   "source": [
    "lt.get_all_stats()"
   ]
  },
  {
   "cell_type": "code",
   "execution_count": 15,
   "metadata": {
    "ExecuteTime": {
     "end_time": "2019-05-01T20:42:39.528647Z",
     "start_time": "2019-05-01T20:42:39.491080Z"
    },
    "scrolled": true
   },
   "outputs": [
    {
     "data": {
      "text/plain": [
       "[{'current_response_time_percentile_50': 57.43908882141113,\n",
       "  'current_response_time_percentile_95': 98.80471229553223,\n",
       "  'errors': [],\n",
       "  'fail_ratio': 0.0,\n",
       "  'state': 'running',\n",
       "  'stats': [{'avg_content_length': 4.0,\n",
       "    'avg_response_time': 45.568084716796875,\n",
       "    'current_rps': 0.0,\n",
       "    'max_response_time': 98.80471229553223,\n",
       "    'median_response_time': 28.05781364440918,\n",
       "    'method': 'GET',\n",
       "    'min_response_time': 24.00517463684082,\n",
       "    'name': '/function/pyfibo/',\n",
       "    'num_failures': 0,\n",
       "    'num_requests': 15},\n",
       "   {'avg_content_length': 4.0,\n",
       "    'avg_response_time': 45.568084716796875,\n",
       "    'current_rps': 0.0,\n",
       "    'max_response_time': 98.80471229553223,\n",
       "    'median_response_time': 28.05781364440918,\n",
       "    'method': None,\n",
       "    'min_response_time': 24.00517463684082,\n",
       "    'name': 'Total',\n",
       "    'num_failures': 0,\n",
       "    'num_requests': 15}],\n",
       "  'total_rps': 0.0,\n",
       "  'user_count': 50,\n",
       "  'time': 1556743350.3435028},\n",
       " {'current_response_time_percentile_50': 36.06247901916504,\n",
       "  'current_response_time_percentile_95': 130,\n",
       "  'errors': [],\n",
       "  'fail_ratio': 0.0,\n",
       "  'state': 'running',\n",
       "  'stats': [{'avg_content_length': 4.0,\n",
       "    'avg_response_time': 55.91193267277309,\n",
       "    'current_rps': 0.0,\n",
       "    'max_response_time': 126.40786170959473,\n",
       "    'median_response_time': 32.33814239501953,\n",
       "    'method': 'GET',\n",
       "    'min_response_time': 24.779558181762695,\n",
       "    'name': '/function/pyfibo/',\n",
       "    'num_failures': 0,\n",
       "    'num_requests': 14},\n",
       "   {'avg_content_length': 4.0,\n",
       "    'avg_response_time': 55.91193267277309,\n",
       "    'current_rps': 0.0,\n",
       "    'max_response_time': 126.40786170959473,\n",
       "    'median_response_time': 32.33814239501953,\n",
       "    'method': None,\n",
       "    'min_response_time': 24.779558181762695,\n",
       "    'name': 'Total',\n",
       "    'num_failures': 0,\n",
       "    'num_requests': 14}],\n",
       "  'total_rps': 0.0,\n",
       "  'user_count': 50,\n",
       "  'time': 1556743352.3476195},\n",
       " {'current_response_time_percentile_50': 26.9467830657959,\n",
       "  'current_response_time_percentile_95': 94.6049690246582,\n",
       "  'errors': [],\n",
       "  'fail_ratio': 0.0,\n",
       "  'state': 'running',\n",
       "  'stats': [{'avg_content_length': 4.0,\n",
       "    'avg_response_time': 49.9715656042099,\n",
       "    'current_rps': 0.0,\n",
       "    'max_response_time': 115.04125595092773,\n",
       "    'median_response_time': 26.569843292236328,\n",
       "    'method': 'GET',\n",
       "    'min_response_time': 24.452686309814453,\n",
       "    'name': '/function/pyfibo/',\n",
       "    'num_failures': 0,\n",
       "    'num_requests': 16},\n",
       "   {'avg_content_length': 4.0,\n",
       "    'avg_response_time': 49.9715656042099,\n",
       "    'current_rps': 0.0,\n",
       "    'max_response_time': 115.04125595092773,\n",
       "    'median_response_time': 26.569843292236328,\n",
       "    'method': None,\n",
       "    'min_response_time': 24.452686309814453,\n",
       "    'name': 'Total',\n",
       "    'num_failures': 0,\n",
       "    'num_requests': 16}],\n",
       "  'total_rps': 0.0,\n",
       "  'user_count': 50,\n",
       "  'time': 1556743354.3609185},\n",
       " {'current_response_time_percentile_50': 26.9467830657959,\n",
       "  'current_response_time_percentile_95': 94.6049690246582,\n",
       "  'errors': [],\n",
       "  'fail_ratio': 0.0,\n",
       "  'state': 'running',\n",
       "  'stats': [{'avg_content_length': 4.0,\n",
       "    'avg_response_time': 49.9715656042099,\n",
       "    'current_rps': 0.0,\n",
       "    'max_response_time': 115.04125595092773,\n",
       "    'median_response_time': 26.569843292236328,\n",
       "    'method': 'GET',\n",
       "    'min_response_time': 24.452686309814453,\n",
       "    'name': '/function/pyfibo/',\n",
       "    'num_failures': 0,\n",
       "    'num_requests': 16},\n",
       "   {'avg_content_length': 4.0,\n",
       "    'avg_response_time': 49.9715656042099,\n",
       "    'current_rps': 0.0,\n",
       "    'max_response_time': 115.04125595092773,\n",
       "    'median_response_time': 26.569843292236328,\n",
       "    'method': None,\n",
       "    'min_response_time': 24.452686309814453,\n",
       "    'name': 'Total',\n",
       "    'num_failures': 0,\n",
       "    'num_requests': 16}],\n",
       "  'total_rps': 0.0,\n",
       "  'user_count': 50,\n",
       "  'time': 1556743356.3455503},\n",
       " {'current_response_time_percentile_50': 24.608612060546875,\n",
       "  'current_response_time_percentile_95': 29.848098754882812,\n",
       "  'errors': [],\n",
       "  'fail_ratio': 0.0,\n",
       "  'state': 'running',\n",
       "  'stats': [{'avg_content_length': 4.0,\n",
       "    'avg_response_time': 34.6970796585083,\n",
       "    'current_rps': 0.0,\n",
       "    'max_response_time': 89.65516090393066,\n",
       "    'median_response_time': 24.608612060546875,\n",
       "    'method': 'GET',\n",
       "    'min_response_time': 24.16682243347168,\n",
       "    'name': '/function/pyfibo/',\n",
       "    'num_failures': 0,\n",
       "    'num_requests': 10},\n",
       "   {'avg_content_length': 4.0,\n",
       "    'avg_response_time': 34.6970796585083,\n",
       "    'current_rps': 0.0,\n",
       "    'max_response_time': 89.65516090393066,\n",
       "    'median_response_time': 24.608612060546875,\n",
       "    'method': None,\n",
       "    'min_response_time': 24.16682243347168,\n",
       "    'name': 'Total',\n",
       "    'num_failures': 0,\n",
       "    'num_requests': 10}],\n",
       "  'total_rps': 0.0,\n",
       "  'user_count': 50,\n",
       "  'time': 1556743358.3501804}]"
      ]
     },
     "execution_count": 15,
     "metadata": {},
     "output_type": "execute_result"
    }
   ],
   "source": [
    "temp_stats = lt.get_temp_stats()\n",
    "temp_stats"
   ]
  },
  {
   "cell_type": "code",
   "execution_count": 16,
   "metadata": {
    "ExecuteTime": {
     "end_time": "2019-05-01T20:42:39.839921Z",
     "start_time": "2019-05-01T20:42:39.812891Z"
    }
   },
   "outputs": [
    {
     "data": {
      "text/plain": [
       "[57.43908882141113,\n",
       " 36.06247901916504,\n",
       " 26.9467830657959,\n",
       " 26.9467830657959,\n",
       " 24.608612060546875]"
      ]
     },
     "execution_count": 16,
     "metadata": {},
     "output_type": "execute_result"
    }
   ],
   "source": [
    "load_tester.get_stats_arr(temp_stats, 'current_response_time_percentile_50')"
   ]
  },
  {
   "cell_type": "code",
   "execution_count": 17,
   "metadata": {
    "ExecuteTime": {
     "end_time": "2019-05-01T20:42:40.940444Z",
     "start_time": "2019-05-01T20:42:40.912608Z"
    }
   },
   "outputs": [
    {
     "data": {
      "text/plain": [
       "[45.568084716796875,\n",
       " 55.91193267277309,\n",
       " 49.9715656042099,\n",
       " 49.9715656042099,\n",
       " 34.6970796585083]"
      ]
     },
     "execution_count": 17,
     "metadata": {},
     "output_type": "execute_result"
    }
   ],
   "source": [
    "load_tester.get_stats_arr_stats(temp_stats, 'avg_response_time')"
   ]
  },
  {
   "cell_type": "code",
   "execution_count": 73,
   "metadata": {
    "ExecuteTime": {
     "end_time": "2019-05-01T23:29:03.529213Z",
     "start_time": "2019-05-01T23:29:03.463568Z"
    }
   },
   "outputs": [
    {
     "data": {
      "text/plain": [
       "True"
      ]
     },
     "execution_count": 73,
     "metadata": {},
     "output_type": "execute_result"
    }
   ],
   "source": [
    "lt.stop_test()"
   ]
  },
  {
   "cell_type": "markdown",
   "metadata": {},
   "source": [
    "# Testing Sequence"
   ]
  },
  {
   "cell_type": "code",
   "execution_count": 1,
   "metadata": {
    "ExecuteTime": {
     "end_time": "2019-05-02T00:27:32.326166Z",
     "start_time": "2019-05-02T00:26:02.066480Z"
    }
   },
   "outputs": [
    {
     "ename": "NameError",
     "evalue": "name 'load_tester' is not defined",
     "output_type": "error",
     "traceback": [
      "\u001b[0;31m---------------------------------------------------------------------------\u001b[0m",
      "\u001b[0;31mNameError\u001b[0m                                 Traceback (most recent call last)",
      "\u001b[0;32m<ipython-input-1-3707ce9d9623>\u001b[0m in \u001b[0;36m<module>\u001b[0;34m\u001b[0m\n\u001b[1;32m      5\u001b[0m \u001b[0mtqdm\u001b[0m\u001b[0;34m.\u001b[0m\u001b[0mpandas\u001b[0m\u001b[0;34m(\u001b[0m\u001b[0;34m)\u001b[0m\u001b[0;34m\u001b[0m\u001b[0;34m\u001b[0m\u001b[0m\n\u001b[1;32m      6\u001b[0m \u001b[0;34m\u001b[0m\u001b[0m\n\u001b[0;32m----> 7\u001b[0;31m \u001b[0mloop_timer\u001b[0m \u001b[0;34m=\u001b[0m \u001b[0mload_tester\u001b[0m\u001b[0;34m.\u001b[0m\u001b[0mTimerClass\u001b[0m\u001b[0;34m(\u001b[0m\u001b[0;34m)\u001b[0m\u001b[0;34m\u001b[0m\u001b[0;34m\u001b[0m\u001b[0m\n\u001b[0m\u001b[1;32m      8\u001b[0m \u001b[0mtotal_timer\u001b[0m \u001b[0;34m=\u001b[0m \u001b[0mload_tester\u001b[0m\u001b[0;34m.\u001b[0m\u001b[0mTimerClass\u001b[0m\u001b[0;34m(\u001b[0m\u001b[0;34m)\u001b[0m\u001b[0;34m\u001b[0m\u001b[0;34m\u001b[0m\u001b[0m\n\u001b[1;32m      9\u001b[0m \u001b[0;34m\u001b[0m\u001b[0m\n",
      "\u001b[0;31mNameError\u001b[0m: name 'load_tester' is not defined"
     ]
    }
   ],
   "source": [
    "import time\n",
    "import pandas as pd\n",
    "\n",
    "from tqdm.auto import tqdm\n",
    "tqdm.pandas()\n",
    "\n",
    "loop_timer = load_tester.TimerClass()\n",
    "total_timer = load_tester.TimerClass()\n",
    "\n",
    "user_sequence = [50,100,500,1000,1000,1000,500,100,50]\n",
    "lt = load_tester.pacsLoadTester(hatch_rate=1000, temp_stat_max_len=5, base='http://localhost:8089/')\n",
    "lt.change_count(user_sequence[0])\n",
    "lt.start_capturing()\n",
    "\n",
    "loop_timer.tic()\n",
    "total_timer.tic()\n",
    "\n",
    "results = None\n",
    "for i in tqdm(range(len(user_sequence))):\n",
    "    user_count = user_sequence[i]\n",
    "    lt.change_count(user_count)\n",
    "    \n",
    "    time.sleep(10 - loop_timer.toc())\n",
    "    \n",
    "    loop_timer.tic()\n",
    "    \n",
    "    result = lt.get_all_stats()\n",
    "    df_result = pd.DataFrame(data=result)\n",
    "    \n",
    "    if results is None:\n",
    "        results = df_result\n",
    "    else:\n",
    "        results = results.append(df_result)\n",
    "    \n",
    "lt.stop_test()\n",
    "\n",
    "results = lt.prepare_results_from_df(results)\n",
    "\n",
    "results.head()"
   ]
  },
  {
   "cell_type": "code",
   "execution_count": null,
   "metadata": {
    "ExecuteTime": {
     "end_time": "2019-05-02T00:27:42.884589Z",
     "start_time": "2019-05-02T00:27:41.787028Z"
    },
    "scrolled": false
   },
   "outputs": [],
   "source": [
    "res = results\n",
    "\n",
    "import matplotlib.pyplot as plt\n",
    "\n",
    "%matplotlib inline\n",
    "\n",
    "plt.figure(figsize=(6,12))\n",
    "plt.subplot(311)\n",
    "plt.plot(res['elapsed_min'], res['avg_response_time'], label='avg_response_time')\n",
    "plt.plot(res['elapsed_min'], res['max_response_time'], label='max_response_time')\n",
    "plt.plot(res['elapsed_min'], res['min_response_time'], label='min_response_time')\n",
    "plt.plot(res['elapsed_min'], res['current_response_time_percentile_95'], label='95th percentile')\n",
    "plt.xlabel('Time (minutes)')\n",
    "plt.ylabel('Average Response Time (ms)')\n",
    "plt.legend()\n",
    "\n",
    "plt.subplot(312)\n",
    "plt.plot(res['elapsed_min'], res['user_count'])\n",
    "plt.xlabel('Time (minutes)')\n",
    "plt.ylabel('Num of Users')\n",
    "\n",
    "plt.subplot(313)\n",
    "plt.plot(res['elapsed_min'], res['fail_ratio'])\n",
    "plt.xlabel('Time (minutes)')\n",
    "plt.ylabel('Fail Ratio')\n",
    "\n",
    "plt.show()"
   ]
  },
  {
   "cell_type": "code",
   "execution_count": null,
   "metadata": {},
   "outputs": [],
   "source": []
  }
 ],
 "metadata": {
  "kernelspec": {
   "display_name": "Python 3",
   "language": "python",
   "name": "python3"
  },
  "language_info": {
   "codemirror_mode": {
    "name": "ipython",
    "version": 3
   },
   "file_extension": ".py",
   "mimetype": "text/x-python",
   "name": "python",
   "nbconvert_exporter": "python",
   "pygments_lexer": "ipython3",
   "version": "3.7.1"
  },
  "toc": {
   "base_numbering": 1,
   "nav_menu": {},
   "number_sections": true,
   "sideBar": true,
   "skip_h1_title": false,
   "title_cell": "Table of Contents",
   "title_sidebar": "Contents",
   "toc_cell": false,
   "toc_position": {},
   "toc_section_display": true,
   "toc_window_display": false
  },
  "varInspector": {
   "cols": {
    "lenName": 16,
    "lenType": 16,
    "lenVar": 40
   },
   "kernels_config": {
    "python": {
     "delete_cmd_postfix": "",
     "delete_cmd_prefix": "del ",
     "library": "var_list.py",
     "varRefreshCmd": "print(var_dic_list())"
    },
    "r": {
     "delete_cmd_postfix": ") ",
     "delete_cmd_prefix": "rm(",
     "library": "var_list.r",
     "varRefreshCmd": "cat(var_dic_list()) "
    }
   },
   "types_to_exclude": [
    "module",
    "function",
    "builtin_function_or_method",
    "instance",
    "_Feature"
   ],
   "window_display": false
  }
 },
 "nbformat": 4,
 "nbformat_minor": 2
}
